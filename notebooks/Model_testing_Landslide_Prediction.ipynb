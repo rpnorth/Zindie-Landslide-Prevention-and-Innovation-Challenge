{
 "cells": [
  {
   "cell_type": "markdown",
   "metadata": {},
   "source": [
    "# Initial modeling attempt\n",
    "\n",
    "####  for Landslide Prediction Zindi Challenge\n",
    "\n",
    "- using MAPIE to estimate prediction intervals using Conformal Prediction"
   ]
  },
  {
   "cell_type": "code",
   "execution_count": 7,
   "metadata": {},
   "outputs": [],
   "source": [
    "import pandas as pd\n",
    "import matplotlib.pyplot as plt\n",
    "import numpy as np\n",
    "from sklearn.model_selection import train_test_split\n",
    "from sklearn.naive_bayes import GaussianNB\n",
    "\n",
    "from mapie.classification import MapieClassifier\n",
    "from mapie.metrics import (\n",
    "    classification_coverage_score, classification_mean_width_score\n",
    ")\n",
    "\n",
    "pd.set_option('display.max_columns', None)\n",
    "\n",
    "import warnings\n",
    "warnings.filterwarnings('ignore')"
   ]
  },
  {
   "cell_type": "code",
   "execution_count": 10,
   "metadata": {},
   "outputs": [],
   "source": [
    "# Read files to pandas dataframes\n",
    "data_dir = '../data/'\n",
    "train = pd.read_csv(data_dir+'Train.csv')\n",
    "\n",
    "# standardize the data \n",
    "train_standardized = (train - train.mean(axis=0)) / train.std(axis=0)\n",
    "# fix label:\n",
    "train_standardized['Label'] = train['Label']\n",
    "\n",
    "# drop lsFactor\n",
    "train_standardized = train_standardized.drop(columns=train_standardized.filter(regex='lsfactor').columns)"
   ]
  },
  {
   "cell_type": "markdown",
   "metadata": {},
   "source": [
    "### Start with suggested model from Starter notebook"
   ]
  },
  {
   "cell_type": "code",
   "execution_count": null,
   "metadata": {},
   "outputs": [],
   "source": [
    "from catboost import CatBoostClassifier\n",
    "from lightgbm import LGBMClassifier\n",
    "\n",
    "# Select main columns to be used in training\n",
    "main_cols = train.columns.difference(['Sample_ID', 'Label'])\n",
    "X = train[main_cols]\n",
    "y = train.Label\n",
    "\n",
    "# Split data into train and test sets\n",
    "X_train, X_test, y_train, y_test = train_test_split(X,y,test_size=0.3, random_state=2022)\n",
    "\n",
    "# Train model\n",
    "# model = RandomForestClassifier(random_state = 2022)\n",
    "model = CatBoostClassifier(verbose = 100, depth = 7)\n",
    "model.fit(X_train, y_train)\n",
    "\n",
    "# Make predictions\n",
    "y_pred = model.predict(X_test)\n",
    "\n",
    "# Check the auc score of the model\n",
    "print(f'Catboost F1 score on the X_test is: {f1_score(y_test, y_pred)}\\n')\n",
    "\n",
    "# print classification report\n",
    "print(classification_report(y_test, y_pred))"
   ]
  }
 ],
 "metadata": {
  "kernelspec": {
   "display_name": "Python 3.9.8 ('.venv': venv)",
   "language": "python",
   "name": "python3"
  },
  "language_info": {
   "codemirror_mode": {
    "name": "ipython",
    "version": 3
   },
   "file_extension": ".py",
   "mimetype": "text/x-python",
   "name": "python",
   "nbconvert_exporter": "python",
   "pygments_lexer": "ipython3",
   "version": "3.9.8"
  },
  "orig_nbformat": 4,
  "vscode": {
   "interpreter": {
    "hash": "ecdffef71da4636534536992c73c8c0ff43b3c6bbd427a2b316f13dda8f6b0ce"
   }
  }
 },
 "nbformat": 4,
 "nbformat_minor": 2
}
