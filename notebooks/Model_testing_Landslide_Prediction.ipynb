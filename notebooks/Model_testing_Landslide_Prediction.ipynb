{
 "cells": [
  {
   "cell_type": "markdown",
   "metadata": {},
   "source": [
    "# Initial modeling attempt\n",
    "\n",
    "####  for Landslide Prediction Zindi Challenge\n",
    "\n",
    "- using MAPIE to estimate prediction intervals using Conformal Prediction"
   ]
  },
  {
   "cell_type": "code",
   "execution_count": 1,
   "metadata": {},
   "outputs": [],
   "source": [
    "import pandas as pd\n",
    "import matplotlib.pyplot as plt\n",
    "import numpy as np\n",
    "from sklearn.model_selection import train_test_split\n",
    "from sklearn.metrics import f1_score, classification_report,confusion_matrix, ConfusionMatrixDisplay\n",
    "from sklearn.naive_bayes import GaussianNB\n",
    "\n",
    "pd.set_option('display.max_columns', None)\n",
    "\n",
    "import warnings\n",
    "warnings.filterwarnings('ignore')"
   ]
  },
  {
   "cell_type": "code",
   "execution_count": 2,
   "metadata": {},
   "outputs": [],
   "source": [
    "# Read files to pandas dataframes\n",
    "data_dir = '../data/'\n",
    "train = pd.read_csv(data_dir+'Train.csv')\n",
    "\n",
    "# standardize the data \n",
    "train_standardized = (train - train.mean(axis=0)) / train.std(axis=0)\n",
    "# fix label:\n",
    "train_standardized['Label'] = train['Label']\n",
    "\n",
    "# drop lsFactor\n",
    "train_standardized = train_standardized.drop(columns=train_standardized.filter(regex='lsfactor').columns)"
   ]
  },
  {
   "cell_type": "markdown",
   "metadata": {},
   "source": [
    "### Start with suggested model from Starter notebook"
   ]
  },
  {
   "cell_type": "code",
   "execution_count": 3,
   "metadata": {},
   "outputs": [],
   "source": [
    "from catboost import CatBoostClassifier\n",
    "#from lightgbm import LGBMClassifier\n",
    "\n",
    "# Select main columns to be used in training\n",
    "main_cols = train.columns.difference(['Sample_ID', 'Label'])\n",
    "X = train[main_cols]\n",
    "y = train.Label\n",
    "\n",
    "# Split data into train and test sets\n",
    "#X_train, X_test, y_train, y_test = train_test_split(X,y,test_size=0.3, random_state=2022)\n",
    "\n",
    "X_train_cal, X_test, y_train_cal, y_test = train_test_split(\n",
    "    X, y, test_size=0.2, random_state=2022)\n",
    "X_train, X_cal, y_train, y_cal = train_test_split(\n",
    "    X_train_cal, y_train_cal, test_size=0.25)\n",
    "\n",
    "\n"
   ]
  },
  {
   "cell_type": "code",
   "execution_count": 4,
   "metadata": {},
   "outputs": [
    {
     "name": "stdout",
     "output_type": "stream",
     "text": [
      "Learning rate set to 0.022938\n",
      "0:\tlearn: 0.6792532\ttotal: 301ms\tremaining: 5m\n",
      "100:\tlearn: 0.3529681\ttotal: 7.95s\tremaining: 1m 10s\n",
      "200:\tlearn: 0.3003718\ttotal: 13.9s\tremaining: 55.2s\n",
      "300:\tlearn: 0.2643882\ttotal: 20.7s\tremaining: 48s\n",
      "400:\tlearn: 0.2344870\ttotal: 28.3s\tremaining: 42.3s\n",
      "500:\tlearn: 0.2056428\ttotal: 34.3s\tremaining: 34.2s\n",
      "600:\tlearn: 0.1788979\ttotal: 40.3s\tremaining: 26.7s\n",
      "700:\tlearn: 0.1568153\ttotal: 46.5s\tremaining: 19.8s\n",
      "800:\tlearn: 0.1368929\ttotal: 52.5s\tremaining: 13s\n",
      "900:\tlearn: 0.1208603\ttotal: 58.5s\tremaining: 6.42s\n",
      "999:\tlearn: 0.1063452\ttotal: 1m 5s\tremaining: 0us\n",
      "Catboost F1 score on the X_test is: 0.6807692307692307\n",
      "\n",
      "              precision    recall  f1-score   support\n",
      "\n",
      "           0       0.88      0.92      0.90      1610\n",
      "           1       0.74      0.63      0.68       563\n",
      "\n",
      "    accuracy                           0.85      2173\n",
      "   macro avg       0.81      0.78      0.79      2173\n",
      "weighted avg       0.84      0.85      0.84      2173\n",
      "\n"
     ]
    }
   ],
   "source": [
    "# Train model\n",
    "# model = RandomForestClassifier(random_state = 2022)\n",
    "model = CatBoostClassifier(verbose = 100, depth = 7)\n",
    "model.fit(X_train, y_train)\n",
    "\n",
    "# Make predictions\n",
    "y_pred = model.predict(X_test)\n",
    "\n",
    "# Check the auc score of the model\n",
    "print(f'Catboost F1 score on the X_test is: {f1_score(y_test, y_pred)}\\n')\n",
    "\n",
    "# print classification report\n",
    "print(classification_report(y_test, y_pred))"
   ]
  },
  {
   "cell_type": "code",
   "execution_count": null,
   "metadata": {},
   "outputs": [],
   "source": []
  },
  {
   "cell_type": "code",
   "execution_count": null,
   "metadata": {},
   "outputs": [],
   "source": []
  },
  {
   "cell_type": "code",
   "execution_count": null,
   "metadata": {},
   "outputs": [],
   "source": []
  },
  {
   "cell_type": "code",
   "execution_count": 9,
   "metadata": {},
   "outputs": [
    {
     "ename": "AssertionError",
     "evalue": "",
     "output_type": "error",
     "traceback": [
      "\u001b[0;31m---------------------------------------------------------------------------\u001b[0m",
      "\u001b[0;31mAssertionError\u001b[0m                            Traceback (most recent call last)",
      "\u001b[1;32m/Users/family_book/Documents/ryan_coding/Zindie-Landslide-Prevention-and-Innovation-Challenge/notebooks/Model_testing_Landslide_Prediction.ipynb Cell 7\u001b[0m in \u001b[0;36m<cell line: 5>\u001b[0;34m()\u001b[0m\n\u001b[1;32m      <a href='vscode-notebook-cell:/Users/family_book/Documents/ryan_coding/Zindie-Landslide-Prevention-and-Innovation-Challenge/notebooks/Model_testing_Landslide_Prediction.ipynb#W6sZmlsZQ%3D%3D?line=2'>3</a>\u001b[0m y_pred_proba \u001b[39m=\u001b[39m model\u001b[39m.\u001b[39mpredict_proba(X_test)\n\u001b[1;32m      <a href='vscode-notebook-cell:/Users/family_book/Documents/ryan_coding/Zindie-Landslide-Prevention-and-Innovation-Challenge/notebooks/Model_testing_Landslide_Prediction.ipynb#W6sZmlsZQ%3D%3D?line=3'>4</a>\u001b[0m y_pred_proba_max \u001b[39m=\u001b[39m np\u001b[39m.\u001b[39mmax(y_pred_proba, axis\u001b[39m=\u001b[39m\u001b[39m1\u001b[39m)\n\u001b[0;32m----> <a href='vscode-notebook-cell:/Users/family_book/Documents/ryan_coding/Zindie-Landslide-Prevention-and-Innovation-Challenge/notebooks/Model_testing_Landslide_Prediction.ipynb#W6sZmlsZQ%3D%3D?line=4'>5</a>\u001b[0m mapie_score \u001b[39m=\u001b[39m MapieClassifier(estimator\u001b[39m=\u001b[39;49m\u001b[39mNone\u001b[39;49;00m , cv\u001b[39m=\u001b[39;49m\u001b[39m\"\u001b[39;49m\u001b[39mprefit\u001b[39;49m\u001b[39m\"\u001b[39;49m, method\u001b[39m=\u001b[39;49m\u001b[39m\"\u001b[39;49m\u001b[39mscore\u001b[39;49m\u001b[39m\"\u001b[39;49m)\u001b[39m.\u001b[39;49mfit(X_train, y_train)\n\u001b[1;32m      <a href='vscode-notebook-cell:/Users/family_book/Documents/ryan_coding/Zindie-Landslide-Prevention-and-Innovation-Challenge/notebooks/Model_testing_Landslide_Prediction.ipynb#W6sZmlsZQ%3D%3D?line=5'>6</a>\u001b[0m mapie_score\u001b[39m.\u001b[39mfit(X_train, y_train)\n\u001b[1;32m      <a href='vscode-notebook-cell:/Users/family_book/Documents/ryan_coding/Zindie-Landslide-Prevention-and-Innovation-Challenge/notebooks/Model_testing_Landslide_Prediction.ipynb#W6sZmlsZQ%3D%3D?line=6'>7</a>\u001b[0m alpha \u001b[39m=\u001b[39m [\u001b[39m0.2\u001b[39m, \u001b[39m0.1\u001b[39m, \u001b[39m0.05\u001b[39m]\n",
      "File \u001b[0;32m~/Documents/ryan_coding/Zindie-Landslide-Prevention-and-Innovation-Challenge/.venv/lib/python3.9/site-packages/mapie/classification.py:666\u001b[0m, in \u001b[0;36mMapieClassifier.fit\u001b[0;34m(self, X, y, sample_weight)\u001b[0m\n\u001b[1;32m    664\u001b[0m X, y \u001b[39m=\u001b[39m indexable(X, y)\n\u001b[1;32m    665\u001b[0m y \u001b[39m=\u001b[39m _check_y(y)\n\u001b[0;32m--> 666\u001b[0m \u001b[39massert\u001b[39;00m type_of_target(y) \u001b[39m==\u001b[39m \u001b[39m\"\u001b[39m\u001b[39mmulticlass\u001b[39m\u001b[39m\"\u001b[39m\n\u001b[1;32m    667\u001b[0m sample_weight, X, y \u001b[39m=\u001b[39m check_null_weight(sample_weight, X, y)\n\u001b[1;32m    668\u001b[0m y \u001b[39m=\u001b[39m cast(NDArray, y)\n",
      "\u001b[0;31mAssertionError\u001b[0m: "
     ]
    }
   ],
   "source": [
    "#!!! Mapie doesn't work for binary classification\n",
    "#from mapie.classification import MapieClassifier\n",
    "#from mapie.metrics import (\n",
    "#    classification_coverage_score, classification_mean_width_score\n",
    "#)\n",
    "#model = GaussianNB().fit(X_train, y_train)\n",
    "#y_pred = model.predict(X_test)\n",
    "#y_pred_proba = model.predict_proba(X_test)\n",
    "#y_pred_proba_max = np.max(y_pred_proba, axis=1)\n",
    "#mapie_score = MapieClassifier(estimator=None , cv=\"prefit\", method=\"score\")\n",
    "#mapie_score.fit(X_train, y_train)\n",
    "#alpha = [0.2, 0.1, 0.05]\n",
    "#y_pred_score, y_ps_score = mapie_score.predict(X_test_mesh, alpha=alpha)"
   ]
  },
  {
   "cell_type": "code",
   "execution_count": null,
   "metadata": {},
   "outputs": [],
   "source": []
  }
 ],
 "metadata": {
  "kernelspec": {
   "display_name": "Python 3.9.8 ('.venv': venv)",
   "language": "python",
   "name": "python3"
  },
  "language_info": {
   "codemirror_mode": {
    "name": "ipython",
    "version": 3
   },
   "file_extension": ".py",
   "mimetype": "text/x-python",
   "name": "python",
   "nbconvert_exporter": "python",
   "pygments_lexer": "ipython3",
   "version": "3.9.8"
  },
  "orig_nbformat": 4,
  "vscode": {
   "interpreter": {
    "hash": "ecdffef71da4636534536992c73c8c0ff43b3c6bbd427a2b316f13dda8f6b0ce"
   }
  }
 },
 "nbformat": 4,
 "nbformat_minor": 2
}
