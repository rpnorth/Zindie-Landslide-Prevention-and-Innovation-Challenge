{
 "cells": [
  {
   "cell_type": "code",
   "execution_count": 1,
   "metadata": {},
   "outputs": [],
   "source": [
    "import numpy as np\n",
    "from sklearn.model_selection import train_test_split\n",
    "centers = [(0, 3.5), (-2, 0), (2, 0)]\n",
    "covs = [np.eye(2), np.eye(2)*2, np.diag([5, 1])]\n",
    "x_min, x_max, y_min, y_max, step = -6, 8, -6, 8, 0.1\n",
    "n_samples = 1000\n",
    "n_classes = 3\n",
    "np.random.seed(42)\n",
    "X = np.vstack([\n",
    "    np.random.multivariate_normal(center, cov, n_samples)\n",
    "    for center, cov in zip(centers, covs)\n",
    "])\n",
    "y = np.hstack([np.full(n_samples, i) for i in range(n_classes)])\n",
    "X_train_cal, X_test, y_train_cal, y_test = train_test_split(X, y, test_size=0.2)\n",
    "X_train, X_cal, y_train, y_cal = train_test_split(X_train_cal, y_train_cal, test_size=0.25)\n",
    "\n",
    "xx, yy = np.meshgrid(\n",
    "    np.arange(x_min, x_max, step), np.arange(x_min, x_max, step)\n",
    ")\n",
    "X_test_mesh = np.stack([xx.ravel(), yy.ravel()], axis=1)\n",
    "\n",
    "from sklearn.naive_bayes import GaussianNB\n",
    "from mapie.classification import MapieClassifier\n",
    "from mapie.metrics import classification_coverage_score, classification_mean_width_score\n",
    "clf = GaussianNB().fit(X_train, y_train)\n",
    "y_pred = clf.predict(X_test)\n",
    "y_pred_proba = clf.predict_proba(X_test)\n",
    "y_pred_proba_max = np.max(y_pred_proba, axis=1)\n",
    "mapie_score = MapieClassifier(estimator=clf, cv=\"prefit\", method=\"score\")\n",
    "mapie_score.fit(X_cal, y_cal)\n",
    "alpha = [0.2, 0.1, 0.05]\n",
    "y_pred_score, y_ps_score = mapie_score.predict(X_test_mesh, alpha=alpha)"
   ]
  },
  {
   "cell_type": "code",
   "execution_count": 4,
   "metadata": {},
   "outputs": [
    {
     "ename": "NameError",
     "evalue": "name 'plt' is not defined",
     "output_type": "error",
     "traceback": [
      "\u001b[0;31m---------------------------------------------------------------------------\u001b[0m",
      "\u001b[0;31mNameError\u001b[0m                                 Traceback (most recent call last)",
      "\u001b[1;32m/Users/family_book/Documents/ryan_coding/Zindie-Landslide-Prevention-and-Innovation-Challenge/notebooks/MAPIE_test.ipynb Cell 2\u001b[0m in \u001b[0;36m<cell line: 24>\u001b[0;34m()\u001b[0m\n\u001b[1;32m     <a href='vscode-notebook-cell:/Users/family_book/Documents/ryan_coding/Zindie-Landslide-Prevention-and-Innovation-Challenge/notebooks/MAPIE_test.ipynb#W1sZmlsZQ%3D%3D?line=21'>22</a>\u001b[0m n \u001b[39m=\u001b[39m mapie_score\u001b[39m.\u001b[39mn_samples_\n\u001b[1;32m     <a href='vscode-notebook-cell:/Users/family_book/Documents/ryan_coding/Zindie-Landslide-Prevention-and-Innovation-Challenge/notebooks/MAPIE_test.ipynb#W1sZmlsZQ%3D%3D?line=22'>23</a>\u001b[0m quantiles \u001b[39m=\u001b[39m mapie_score\u001b[39m.\u001b[39mquantiles_\n\u001b[0;32m---> <a href='vscode-notebook-cell:/Users/family_book/Documents/ryan_coding/Zindie-Landslide-Prevention-and-Innovation-Challenge/notebooks/MAPIE_test.ipynb#W1sZmlsZQ%3D%3D?line=23'>24</a>\u001b[0m plot_scores(n, alpha, scores, quantiles)\n",
      "\u001b[1;32m/Users/family_book/Documents/ryan_coding/Zindie-Landslide-Prevention-and-Innovation-Challenge/notebooks/MAPIE_test.ipynb Cell 2\u001b[0m in \u001b[0;36mplot_scores\u001b[0;34m(n, alphas, scores, quantiles)\u001b[0m\n\u001b[1;32m      <a href='vscode-notebook-cell:/Users/family_book/Documents/ryan_coding/Zindie-Landslide-Prevention-and-Innovation-Challenge/notebooks/MAPIE_test.ipynb#W1sZmlsZQ%3D%3D?line=0'>1</a>\u001b[0m \u001b[39mdef\u001b[39;00m \u001b[39mplot_scores\u001b[39m(n, alphas, scores, quantiles):\n\u001b[1;32m      <a href='vscode-notebook-cell:/Users/family_book/Documents/ryan_coding/Zindie-Landslide-Prevention-and-Innovation-Challenge/notebooks/MAPIE_test.ipynb#W1sZmlsZQ%3D%3D?line=1'>2</a>\u001b[0m     colors \u001b[39m=\u001b[39m {\u001b[39m0\u001b[39m:\u001b[39m\"\u001b[39m\u001b[39m#1f77b4\u001b[39m\u001b[39m\"\u001b[39m, \u001b[39m1\u001b[39m:\u001b[39m\"\u001b[39m\u001b[39m#ff7f0e\u001b[39m\u001b[39m\"\u001b[39m, \u001b[39m2\u001b[39m:\u001b[39m\"\u001b[39m\u001b[39m#2ca02c\u001b[39m\u001b[39m\"\u001b[39m}\n\u001b[0;32m----> <a href='vscode-notebook-cell:/Users/family_book/Documents/ryan_coding/Zindie-Landslide-Prevention-and-Innovation-Challenge/notebooks/MAPIE_test.ipynb#W1sZmlsZQ%3D%3D?line=2'>3</a>\u001b[0m     fig \u001b[39m=\u001b[39m plt\u001b[39m.\u001b[39mfigure(figsize\u001b[39m=\u001b[39m(\u001b[39m7\u001b[39m, \u001b[39m5\u001b[39m))\n\u001b[1;32m      <a href='vscode-notebook-cell:/Users/family_book/Documents/ryan_coding/Zindie-Landslide-Prevention-and-Innovation-Challenge/notebooks/MAPIE_test.ipynb#W1sZmlsZQ%3D%3D?line=3'>4</a>\u001b[0m     plt\u001b[39m.\u001b[39mhist(scores, bins\u001b[39m=\u001b[39m\u001b[39m\"\u001b[39m\u001b[39mauto\u001b[39m\u001b[39m\"\u001b[39m)\n\u001b[1;32m      <a href='vscode-notebook-cell:/Users/family_book/Documents/ryan_coding/Zindie-Landslide-Prevention-and-Innovation-Challenge/notebooks/MAPIE_test.ipynb#W1sZmlsZQ%3D%3D?line=4'>5</a>\u001b[0m     i\u001b[39m=\u001b[39m\u001b[39m0\u001b[39m\n",
      "\u001b[0;31mNameError\u001b[0m: name 'plt' is not defined"
     ]
    }
   ],
   "source": [
    "def plot_scores(n, alphas, scores, quantiles):\n",
    "    colors = {0:\"#1f77b4\", 1:\"#ff7f0e\", 2:\"#2ca02c\"}\n",
    "    fig = plt.figure(figsize=(7, 5))\n",
    "    plt.hist(scores, bins=\"auto\")\n",
    "    i=0\n",
    "    for i, quantile in enumerate(quantiles):\n",
    "         plt.vlines(\n",
    "             x = quantile,\n",
    "             ymin=0,\n",
    "             ymax=400,\n",
    "             color=colors[i],\n",
    "             ls= \"dashed\",\n",
    "             label=f\"alpha = {alphas[i]}\"\n",
    "         )\n",
    "    plt.title(\"Distribution of scores\")\n",
    "    plt.legend()\n",
    "    plt.xlabel(\"Scores\")\n",
    "    plt.ylabel(\"Count\")\n",
    "    plt.show()\n",
    "\n",
    "scores = mapie_score.conformity_scores_\n",
    "n = mapie_score.n_samples_\n",
    "quantiles = mapie_score.quantiles_\n",
    "plot_scores(n, alpha, scores, quantiles)"
   ]
  },
  {
   "cell_type": "code",
   "execution_count": null,
   "metadata": {},
   "outputs": [],
   "source": []
  }
 ],
 "metadata": {
  "kernelspec": {
   "display_name": "Python 3.9.8 ('.venv': venv)",
   "language": "python",
   "name": "python3"
  },
  "language_info": {
   "codemirror_mode": {
    "name": "ipython",
    "version": 3
   },
   "file_extension": ".py",
   "mimetype": "text/x-python",
   "name": "python",
   "nbconvert_exporter": "python",
   "pygments_lexer": "ipython3",
   "version": "3.9.8"
  },
  "orig_nbformat": 4,
  "vscode": {
   "interpreter": {
    "hash": "ecdffef71da4636534536992c73c8c0ff43b3c6bbd427a2b316f13dda8f6b0ce"
   }
  }
 },
 "nbformat": 4,
 "nbformat_minor": 2
}
